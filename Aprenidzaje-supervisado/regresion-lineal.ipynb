{
 "cells": [
  {
   "cell_type": "code",
   "execution_count": 9,
   "metadata": {},
   "outputs": [],
   "source": [
    "#importar librerias\n",
    "import pandas as pd\n",
    "import matplotlib.pyplot as plt"
   ]
  },
  {
   "cell_type": "code",
   "execution_count": 12,
   "metadata": {},
   "outputs": [
    {
     "name": "stdout",
     "output_type": "stream",
     "text": [
      "Collecting scikit-learn\n",
      "  Obtaining dependency information for scikit-learn from https://files.pythonhosted.org/packages/4e/ba/ce9bd1cd4953336a0e213b29cb80bb11816f2a93de8c99f88ef0b446ad0c/scikit_learn-1.3.2-cp311-cp311-win_amd64.whl.metadata\n",
      "  Downloading scikit_learn-1.3.2-cp311-cp311-win_amd64.whl.metadata (11 kB)\n",
      "Requirement already satisfied: numpy<2.0,>=1.17.3 in c:\\users\\brithany\\appdata\\local\\packages\\pythonsoftwarefoundation.python.3.11_qbz5n2kfra8p0\\localcache\\local-packages\\python311\\site-packages (from scikit-learn) (1.24.3)\n",
      "Collecting scipy>=1.5.0 (from scikit-learn)\n",
      "  Obtaining dependency information for scipy>=1.5.0 from https://files.pythonhosted.org/packages/43/d0/f3cd75b62e1b90f48dbf091261b2fc7ceec14a700e308c50f6a69c83d337/scipy-1.11.4-cp311-cp311-win_amd64.whl.metadata\n",
      "  Downloading scipy-1.11.4-cp311-cp311-win_amd64.whl.metadata (60 kB)\n",
      "     ---------------------------------------- 0.0/60.4 kB ? eta -:--:--\n",
      "     ------ --------------------------------- 10.2/60.4 kB ? eta -:--:--\n",
      "     ------------------------- ------------ 41.0/60.4 kB 388.9 kB/s eta 0:00:01\n",
      "     -------------------------------------- 60.4/60.4 kB 456.0 kB/s eta 0:00:00\n",
      "Collecting joblib>=1.1.1 (from scikit-learn)\n",
      "  Obtaining dependency information for joblib>=1.1.1 from https://files.pythonhosted.org/packages/10/40/d551139c85db202f1f384ba8bcf96aca2f329440a844f924c8a0040b6d02/joblib-1.3.2-py3-none-any.whl.metadata\n",
      "  Downloading joblib-1.3.2-py3-none-any.whl.metadata (5.4 kB)\n",
      "Collecting threadpoolctl>=2.0.0 (from scikit-learn)\n",
      "  Obtaining dependency information for threadpoolctl>=2.0.0 from https://files.pythonhosted.org/packages/81/12/fd4dea011af9d69e1cad05c75f3f7202cdcbeac9b712eea58ca779a72865/threadpoolctl-3.2.0-py3-none-any.whl.metadata\n",
      "  Downloading threadpoolctl-3.2.0-py3-none-any.whl.metadata (10.0 kB)\n",
      "Downloading scikit_learn-1.3.2-cp311-cp311-win_amd64.whl (9.2 MB)\n",
      "   ---------------------------------------- 0.0/9.2 MB ? eta -:--:--\n",
      "    --------------------------------------- 0.2/9.2 MB 3.5 MB/s eta 0:00:03\n",
      "   -- ------------------------------------- 0.5/9.2 MB 4.8 MB/s eta 0:00:02\n",
      "   ---- ----------------------------------- 1.0/9.2 MB 6.8 MB/s eta 0:00:02\n",
      "   ------ --------------------------------- 1.5/9.2 MB 8.6 MB/s eta 0:00:01\n",
      "   -------- ------------------------------- 1.9/9.2 MB 8.8 MB/s eta 0:00:01\n",
      "   ----------- ---------------------------- 2.5/9.2 MB 9.5 MB/s eta 0:00:01\n",
      "   ------------- -------------------------- 3.0/9.2 MB 9.2 MB/s eta 0:00:01\n",
      "   --------------- ------------------------ 3.5/9.2 MB 9.4 MB/s eta 0:00:01\n",
      "   ----------------- ---------------------- 4.1/9.2 MB 9.7 MB/s eta 0:00:01\n",
      "   ------------------- -------------------- 4.5/9.2 MB 9.6 MB/s eta 0:00:01\n",
      "   ---------------------- ----------------- 5.1/9.2 MB 10.2 MB/s eta 0:00:01\n",
      "   ------------------------ --------------- 5.5/9.2 MB 10.1 MB/s eta 0:00:01\n",
      "   -------------------------- ------------- 6.1/9.2 MB 10.3 MB/s eta 0:00:01\n",
      "   ---------------------------- ----------- 6.6/9.2 MB 10.3 MB/s eta 0:00:01\n",
      "   ------------------------------- -------- 7.2/9.2 MB 10.4 MB/s eta 0:00:01\n",
      "   --------------------------------- ------ 7.7/9.2 MB 10.5 MB/s eta 0:00:01\n",
      "   ----------------------------------- ---- 8.2/9.2 MB 10.5 MB/s eta 0:00:01\n",
      "   -------------------------------------- - 8.8/9.2 MB 10.6 MB/s eta 0:00:01\n",
      "   ---------------------------------------  9.2/9.2 MB 10.5 MB/s eta 0:00:01\n",
      "   ---------------------------------------  9.2/9.2 MB 10.5 MB/s eta 0:00:01\n",
      "   ---------------------------------------- 9.2/9.2 MB 9.8 MB/s eta 0:00:00\n",
      "Downloading joblib-1.3.2-py3-none-any.whl (302 kB)\n",
      "   ---------------------------------------- 0.0/302.2 kB ? eta -:--:--\n",
      "   ---------------------------------------- 302.2/302.2 kB 9.4 MB/s eta 0:00:00\n",
      "Downloading scipy-1.11.4-cp311-cp311-win_amd64.whl (44.1 MB)\n",
      "   ---------------------------------------- 0.0/44.1 MB ? eta -:--:--\n",
      "   ---------------------------------------- 0.5/44.1 MB 16.5 MB/s eta 0:00:03\n",
      "   - -------------------------------------- 1.2/44.1 MB 14.7 MB/s eta 0:00:03\n",
      "   - -------------------------------------- 1.6/44.1 MB 12.9 MB/s eta 0:00:04\n",
      "   -- ------------------------------------- 2.3/44.1 MB 13.0 MB/s eta 0:00:04\n",
      "   -- ------------------------------------- 2.8/44.1 MB 12.9 MB/s eta 0:00:04\n",
      "   --- ------------------------------------ 3.4/44.1 MB 12.7 MB/s eta 0:00:04\n",
      "   --- ------------------------------------ 4.0/44.1 MB 12.7 MB/s eta 0:00:04\n",
      "   ---- ----------------------------------- 4.4/44.1 MB 12.3 MB/s eta 0:00:04\n",
      "   ---- ----------------------------------- 4.9/44.1 MB 12.0 MB/s eta 0:00:04\n",
      "   ---- ----------------------------------- 5.4/44.1 MB 11.9 MB/s eta 0:00:04\n",
      "   ----- ---------------------------------- 6.1/44.1 MB 12.1 MB/s eta 0:00:04\n",
      "   ----- ---------------------------------- 6.5/44.1 MB 12.2 MB/s eta 0:00:04\n",
      "   ------ --------------------------------- 7.1/44.1 MB 12.0 MB/s eta 0:00:04\n",
      "   ------ --------------------------------- 7.5/44.1 MB 12.1 MB/s eta 0:00:04\n",
      "   ------- -------------------------------- 8.1/44.1 MB 12.0 MB/s eta 0:00:03\n",
      "   ------- -------------------------------- 8.6/44.1 MB 12.0 MB/s eta 0:00:03\n",
      "   -------- ------------------------------- 9.1/44.1 MB 11.9 MB/s eta 0:00:03\n",
      "   -------- ------------------------------- 9.7/44.1 MB 11.9 MB/s eta 0:00:03\n",
      "   --------- ------------------------------ 10.2/44.1 MB 11.9 MB/s eta 0:00:03\n",
      "   --------- ------------------------------ 10.7/44.1 MB 11.7 MB/s eta 0:00:03\n",
      "   ---------- ----------------------------- 11.1/44.1 MB 11.7 MB/s eta 0:00:03\n",
      "   ---------- ----------------------------- 11.7/44.1 MB 11.5 MB/s eta 0:00:03\n",
      "   ----------- ---------------------------- 12.1/44.1 MB 11.3 MB/s eta 0:00:03\n",
      "   ----------- ---------------------------- 12.8/44.1 MB 11.3 MB/s eta 0:00:03\n",
      "   ------------ --------------------------- 13.3/44.1 MB 11.5 MB/s eta 0:00:03\n",
      "   ------------ --------------------------- 13.9/44.1 MB 11.3 MB/s eta 0:00:03\n",
      "   ------------- -------------------------- 14.5/44.1 MB 11.5 MB/s eta 0:00:03\n",
      "   ------------- -------------------------- 14.9/44.1 MB 11.3 MB/s eta 0:00:03\n",
      "   -------------- ------------------------- 15.5/44.1 MB 11.7 MB/s eta 0:00:03\n",
      "   -------------- ------------------------- 15.9/44.1 MB 11.3 MB/s eta 0:00:03\n",
      "   -------------- ------------------------- 16.4/44.1 MB 11.3 MB/s eta 0:00:03\n",
      "   --------------- ------------------------ 16.9/44.1 MB 11.3 MB/s eta 0:00:03\n",
      "   --------------- ------------------------ 17.5/44.1 MB 11.3 MB/s eta 0:00:03\n",
      "   ---------------- ----------------------- 18.0/44.1 MB 11.5 MB/s eta 0:00:03\n",
      "   ---------------- ----------------------- 18.5/44.1 MB 11.3 MB/s eta 0:00:03\n",
      "   ----------------- ---------------------- 19.1/44.1 MB 11.5 MB/s eta 0:00:03\n",
      "   ----------------- ---------------------- 19.6/44.1 MB 11.5 MB/s eta 0:00:03\n",
      "   ------------------ --------------------- 20.0/44.1 MB 11.5 MB/s eta 0:00:03\n",
      "   ------------------ --------------------- 20.0/44.1 MB 11.5 MB/s eta 0:00:03\n",
      "   ------------------ --------------------- 20.0/44.1 MB 11.5 MB/s eta 0:00:03\n",
      "   ------------------ --------------------- 20.0/44.1 MB 11.5 MB/s eta 0:00:03\n",
      "   ------------------ --------------------- 20.6/44.1 MB 9.9 MB/s eta 0:00:03\n",
      "   -------------------- ------------------- 22.4/44.1 MB 11.3 MB/s eta 0:00:02\n",
      "   -------------------- ------------------- 22.9/44.1 MB 10.9 MB/s eta 0:00:02\n",
      "   --------------------- ------------------ 23.4/44.1 MB 10.9 MB/s eta 0:00:02\n",
      "   --------------------- ------------------ 23.9/44.1 MB 11.1 MB/s eta 0:00:02\n",
      "   ---------------------- ----------------- 24.5/44.1 MB 10.9 MB/s eta 0:00:02\n",
      "   ---------------------- ----------------- 24.9/44.1 MB 10.9 MB/s eta 0:00:02\n",
      "   ----------------------- ---------------- 25.5/44.1 MB 10.9 MB/s eta 0:00:02\n",
      "   ----------------------- ---------------- 25.9/44.1 MB 10.9 MB/s eta 0:00:02\n",
      "   ----------------------- ---------------- 26.3/44.1 MB 10.7 MB/s eta 0:00:02\n",
      "   ------------------------ --------------- 26.5/44.1 MB 10.6 MB/s eta 0:00:02\n",
      "   ------------------------ --------------- 27.1/44.1 MB 10.6 MB/s eta 0:00:02\n",
      "   ------------------------ --------------- 27.5/44.1 MB 10.6 MB/s eta 0:00:02\n",
      "   ------------------------- -------------- 27.9/44.1 MB 10.2 MB/s eta 0:00:02\n",
      "   ------------------------- -------------- 28.4/44.1 MB 10.2 MB/s eta 0:00:02\n",
      "   -------------------------- ------------- 28.8/44.1 MB 10.2 MB/s eta 0:00:02\n",
      "   -------------------------- ------------- 29.4/44.1 MB 10.2 MB/s eta 0:00:02\n",
      "   --------------------------- ------------ 29.8/44.1 MB 10.1 MB/s eta 0:00:02\n",
      "   --------------------------- ------------ 30.3/44.1 MB 11.9 MB/s eta 0:00:02\n",
      "   --------------------------- ------------ 30.8/44.1 MB 11.7 MB/s eta 0:00:02\n",
      "   ---------------------------- ----------- 31.4/44.1 MB 11.3 MB/s eta 0:00:02\n",
      "   ---------------------------- ----------- 31.8/44.1 MB 10.7 MB/s eta 0:00:02\n",
      "   ----------------------------- ---------- 32.3/44.1 MB 10.4 MB/s eta 0:00:02\n",
      "   ----------------------------- ---------- 32.9/44.1 MB 10.4 MB/s eta 0:00:02\n",
      "   ------------------------------ --------- 33.4/44.1 MB 10.4 MB/s eta 0:00:02\n",
      "   ------------------------------ --------- 33.9/44.1 MB 10.4 MB/s eta 0:00:01\n",
      "   ------------------------------- -------- 34.4/44.1 MB 10.4 MB/s eta 0:00:01\n",
      "   ------------------------------- -------- 35.1/44.1 MB 10.6 MB/s eta 0:00:01\n",
      "   -------------------------------- ------- 35.5/44.1 MB 10.4 MB/s eta 0:00:01\n",
      "   -------------------------------- ------- 35.8/44.1 MB 10.4 MB/s eta 0:00:01\n",
      "   -------------------------------- ------- 36.2/44.1 MB 10.2 MB/s eta 0:00:01\n",
      "   --------------------------------- ------ 36.6/44.1 MB 10.2 MB/s eta 0:00:01\n",
      "   --------------------------------- ------ 37.2/44.1 MB 10.4 MB/s eta 0:00:01\n",
      "   ---------------------------------- ----- 37.7/44.1 MB 10.4 MB/s eta 0:00:01\n",
      "   ---------------------------------- ----- 38.2/44.1 MB 10.6 MB/s eta 0:00:01\n",
      "   ----------------------------------- ---- 38.7/44.1 MB 10.6 MB/s eta 0:00:01\n",
      "   ----------------------------------- ---- 39.2/44.1 MB 10.9 MB/s eta 0:00:01\n",
      "   ----------------------------------- ---- 39.6/44.1 MB 10.7 MB/s eta 0:00:01\n",
      "   ------------------------------------ --- 40.1/44.1 MB 10.9 MB/s eta 0:00:01\n",
      "   ------------------------------------ --- 40.6/44.1 MB 10.7 MB/s eta 0:00:01\n",
      "   ------------------------------------- -- 41.0/44.1 MB 10.6 MB/s eta 0:00:01\n",
      "   ------------------------------------- -- 41.4/44.1 MB 10.4 MB/s eta 0:00:01\n",
      "   -------------------------------------- - 41.9/44.1 MB 10.4 MB/s eta 0:00:01\n",
      "   -------------------------------------- - 42.4/44.1 MB 10.6 MB/s eta 0:00:01\n",
      "   -------------------------------------- - 42.8/44.1 MB 10.4 MB/s eta 0:00:01\n",
      "   ---------------------------------------  43.3/44.1 MB 10.4 MB/s eta 0:00:01\n",
      "   ---------------------------------------  43.7/44.1 MB 10.2 MB/s eta 0:00:01\n",
      "   ---------------------------------------  44.1/44.1 MB 10.2 MB/s eta 0:00:01\n",
      "   ---------------------------------------  44.1/44.1 MB 10.1 MB/s eta 0:00:01\n",
      "   ---------------------------------------  44.1/44.1 MB 10.1 MB/s eta 0:00:01\n",
      "   ---------------------------------------  44.1/44.1 MB 10.1 MB/s eta 0:00:01\n",
      "   ---------------------------------------  44.1/44.1 MB 10.1 MB/s eta 0:00:01\n",
      "   ---------------------------------------  44.1/44.1 MB 10.1 MB/s eta 0:00:01\n",
      "   ---------------------------------------  44.1/44.1 MB 10.1 MB/s eta 0:00:01\n",
      "   ---------------------------------------  44.1/44.1 MB 10.1 MB/s eta 0:00:01\n",
      "   ---------------------------------------- 44.1/44.1 MB 7.4 MB/s eta 0:00:00\n",
      "Downloading threadpoolctl-3.2.0-py3-none-any.whl (15 kB)\n",
      "Installing collected packages: threadpoolctl, scipy, joblib, scikit-learn\n",
      "Successfully installed joblib-1.3.2 scikit-learn-1.3.2 scipy-1.11.4 threadpoolctl-3.2.0\n",
      "Note: you may need to restart the kernel to use updated packages.\n"
     ]
    },
    {
     "name": "stderr",
     "output_type": "stream",
     "text": [
      "\n",
      "[notice] A new release of pip is available: 23.2.1 -> 23.3.1\n",
      "[notice] To update, run: C:\\Users\\Brithany\\AppData\\Local\\Microsoft\\WindowsApps\\PythonSoftwareFoundation.Python.3.11_qbz5n2kfra8p0\\python.exe -m pip install --upgrade pip\n"
     ]
    }
   ],
   "source": [
    "pip install -U scikit-learn"
   ]
  },
  {
   "cell_type": "code",
   "execution_count": 29,
   "metadata": {},
   "outputs": [],
   "source": [
    "from sklearn.linear_model import LinearRegression\n",
    "from sklearn.model_selection import train_test_split\n",
    "from sklearn.metrics import mean_squared_error, r2_score"
   ]
  },
  {
   "cell_type": "code",
   "execution_count": 30,
   "metadata": {},
   "outputs": [
    {
     "data": {
      "text/html": [
       "<div>\n",
       "<style scoped>\n",
       "    .dataframe tbody tr th:only-of-type {\n",
       "        vertical-align: middle;\n",
       "    }\n",
       "\n",
       "    .dataframe tbody tr th {\n",
       "        vertical-align: top;\n",
       "    }\n",
       "\n",
       "    .dataframe thead th {\n",
       "        text-align: right;\n",
       "    }\n",
       "</style>\n",
       "<table border=\"1\" class=\"dataframe\">\n",
       "  <thead>\n",
       "    <tr style=\"text-align: right;\">\n",
       "      <th></th>\n",
       "      <th>age</th>\n",
       "      <th>sex</th>\n",
       "      <th>bmi</th>\n",
       "      <th>children</th>\n",
       "      <th>smoker</th>\n",
       "      <th>charges</th>\n",
       "    </tr>\n",
       "  </thead>\n",
       "  <tbody>\n",
       "    <tr>\n",
       "      <th>0</th>\n",
       "      <td>19</td>\n",
       "      <td>1</td>\n",
       "      <td>27.900</td>\n",
       "      <td>0</td>\n",
       "      <td>1</td>\n",
       "      <td>16884.92400</td>\n",
       "    </tr>\n",
       "    <tr>\n",
       "      <th>1</th>\n",
       "      <td>18</td>\n",
       "      <td>0</td>\n",
       "      <td>33.770</td>\n",
       "      <td>1</td>\n",
       "      <td>0</td>\n",
       "      <td>1725.55230</td>\n",
       "    </tr>\n",
       "    <tr>\n",
       "      <th>2</th>\n",
       "      <td>28</td>\n",
       "      <td>0</td>\n",
       "      <td>33.000</td>\n",
       "      <td>3</td>\n",
       "      <td>0</td>\n",
       "      <td>4449.46200</td>\n",
       "    </tr>\n",
       "    <tr>\n",
       "      <th>3</th>\n",
       "      <td>33</td>\n",
       "      <td>0</td>\n",
       "      <td>22.705</td>\n",
       "      <td>0</td>\n",
       "      <td>0</td>\n",
       "      <td>21984.47061</td>\n",
       "    </tr>\n",
       "    <tr>\n",
       "      <th>4</th>\n",
       "      <td>32</td>\n",
       "      <td>0</td>\n",
       "      <td>28.880</td>\n",
       "      <td>0</td>\n",
       "      <td>0</td>\n",
       "      <td>3866.85520</td>\n",
       "    </tr>\n",
       "  </tbody>\n",
       "</table>\n",
       "</div>"
      ],
      "text/plain": [
       "   age  sex     bmi  children  smoker      charges\n",
       "0   19    1  27.900         0       1  16884.92400\n",
       "1   18    0  33.770         1       0   1725.55230\n",
       "2   28    0  33.000         3       0   4449.46200\n",
       "3   33    0  22.705         0       0  21984.47061\n",
       "4   32    0  28.880         0       0   3866.85520"
      ]
     },
     "execution_count": 30,
     "metadata": {},
     "output_type": "execute_result"
    }
   ],
   "source": [
    "#leer archivo\n",
    "datoSalud=pd.read_csv('seguro_salud.csv')\n",
    "#mostrar las 5 primeras filas del csv\n",
    "datoSalud.head()"
   ]
  },
  {
   "cell_type": "code",
   "execution_count": 31,
   "metadata": {},
   "outputs": [],
   "source": [
    "#Separar datos de entrada X los cuales son caracteristicas y Y, que son etiquetas\n",
    "x=datoSalud.iloc[:,:-1]\n",
    "y=datoSalud.iloc[:,-1]#hace referencia la ultima columna"
   ]
  },
  {
   "cell_type": "code",
   "execution_count": 32,
   "metadata": {},
   "outputs": [],
   "source": [
    "#dividir los datos en conjunto de entrenamiento y prueba\n",
    "x_train, x_test, y_train, y_test=train_test_split(x,y, test_size=0.3, random_state=25)"
   ]
  },
  {
   "cell_type": "code",
   "execution_count": 33,
   "metadata": {},
   "outputs": [],
   "source": [
    "#Crear modelo\n",
    "modelo=LinearRegression()"
   ]
  },
  {
   "cell_type": "code",
   "execution_count": 34,
   "metadata": {},
   "outputs": [
    {
     "data": {
      "text/html": [
       "<style>#sk-container-id-3 {color: black;}#sk-container-id-3 pre{padding: 0;}#sk-container-id-3 div.sk-toggleable {background-color: white;}#sk-container-id-3 label.sk-toggleable__label {cursor: pointer;display: block;width: 100%;margin-bottom: 0;padding: 0.3em;box-sizing: border-box;text-align: center;}#sk-container-id-3 label.sk-toggleable__label-arrow:before {content: \"▸\";float: left;margin-right: 0.25em;color: #696969;}#sk-container-id-3 label.sk-toggleable__label-arrow:hover:before {color: black;}#sk-container-id-3 div.sk-estimator:hover label.sk-toggleable__label-arrow:before {color: black;}#sk-container-id-3 div.sk-toggleable__content {max-height: 0;max-width: 0;overflow: hidden;text-align: left;background-color: #f0f8ff;}#sk-container-id-3 div.sk-toggleable__content pre {margin: 0.2em;color: black;border-radius: 0.25em;background-color: #f0f8ff;}#sk-container-id-3 input.sk-toggleable__control:checked~div.sk-toggleable__content {max-height: 200px;max-width: 100%;overflow: auto;}#sk-container-id-3 input.sk-toggleable__control:checked~label.sk-toggleable__label-arrow:before {content: \"▾\";}#sk-container-id-3 div.sk-estimator input.sk-toggleable__control:checked~label.sk-toggleable__label {background-color: #d4ebff;}#sk-container-id-3 div.sk-label input.sk-toggleable__control:checked~label.sk-toggleable__label {background-color: #d4ebff;}#sk-container-id-3 input.sk-hidden--visually {border: 0;clip: rect(1px 1px 1px 1px);clip: rect(1px, 1px, 1px, 1px);height: 1px;margin: -1px;overflow: hidden;padding: 0;position: absolute;width: 1px;}#sk-container-id-3 div.sk-estimator {font-family: monospace;background-color: #f0f8ff;border: 1px dotted black;border-radius: 0.25em;box-sizing: border-box;margin-bottom: 0.5em;}#sk-container-id-3 div.sk-estimator:hover {background-color: #d4ebff;}#sk-container-id-3 div.sk-parallel-item::after {content: \"\";width: 100%;border-bottom: 1px solid gray;flex-grow: 1;}#sk-container-id-3 div.sk-label:hover label.sk-toggleable__label {background-color: #d4ebff;}#sk-container-id-3 div.sk-serial::before {content: \"\";position: absolute;border-left: 1px solid gray;box-sizing: border-box;top: 0;bottom: 0;left: 50%;z-index: 0;}#sk-container-id-3 div.sk-serial {display: flex;flex-direction: column;align-items: center;background-color: white;padding-right: 0.2em;padding-left: 0.2em;position: relative;}#sk-container-id-3 div.sk-item {position: relative;z-index: 1;}#sk-container-id-3 div.sk-parallel {display: flex;align-items: stretch;justify-content: center;background-color: white;position: relative;}#sk-container-id-3 div.sk-item::before, #sk-container-id-3 div.sk-parallel-item::before {content: \"\";position: absolute;border-left: 1px solid gray;box-sizing: border-box;top: 0;bottom: 0;left: 50%;z-index: -1;}#sk-container-id-3 div.sk-parallel-item {display: flex;flex-direction: column;z-index: 1;position: relative;background-color: white;}#sk-container-id-3 div.sk-parallel-item:first-child::after {align-self: flex-end;width: 50%;}#sk-container-id-3 div.sk-parallel-item:last-child::after {align-self: flex-start;width: 50%;}#sk-container-id-3 div.sk-parallel-item:only-child::after {width: 0;}#sk-container-id-3 div.sk-dashed-wrapped {border: 1px dashed gray;margin: 0 0.4em 0.5em 0.4em;box-sizing: border-box;padding-bottom: 0.4em;background-color: white;}#sk-container-id-3 div.sk-label label {font-family: monospace;font-weight: bold;display: inline-block;line-height: 1.2em;}#sk-container-id-3 div.sk-label-container {text-align: center;}#sk-container-id-3 div.sk-container {/* jupyter's `normalize.less` sets `[hidden] { display: none; }` but bootstrap.min.css set `[hidden] { display: none !important; }` so we also need the `!important` here to be able to override the default hidden behavior on the sphinx rendered scikit-learn.org. See: https://github.com/scikit-learn/scikit-learn/issues/21755 */display: inline-block !important;position: relative;}#sk-container-id-3 div.sk-text-repr-fallback {display: none;}</style><div id=\"sk-container-id-3\" class=\"sk-top-container\"><div class=\"sk-text-repr-fallback\"><pre>LinearRegression()</pre><b>In a Jupyter environment, please rerun this cell to show the HTML representation or trust the notebook. <br />On GitHub, the HTML representation is unable to render, please try loading this page with nbviewer.org.</b></div><div class=\"sk-container\" hidden><div class=\"sk-item\"><div class=\"sk-estimator sk-toggleable\"><input class=\"sk-toggleable__control sk-hidden--visually\" id=\"sk-estimator-id-3\" type=\"checkbox\" checked><label for=\"sk-estimator-id-3\" class=\"sk-toggleable__label sk-toggleable__label-arrow\">LinearRegression</label><div class=\"sk-toggleable__content\"><pre>LinearRegression()</pre></div></div></div></div></div>"
      ],
      "text/plain": [
       "LinearRegression()"
      ]
     },
     "execution_count": 34,
     "metadata": {},
     "output_type": "execute_result"
    }
   ],
   "source": [
    "#Entrenar modelo\n",
    "modelo.fit(x_train,y_train)"
   ]
  },
  {
   "cell_type": "code",
   "execution_count": 35,
   "metadata": {},
   "outputs": [],
   "source": [
    "#Probar modelo el modelo con los datos de prueba\n",
    "y_obt=modelo.predict(x_test)"
   ]
  },
  {
   "cell_type": "code",
   "execution_count": 36,
   "metadata": {},
   "outputs": [
    {
     "name": "stdout",
     "output_type": "stream",
     "text": [
      "El error es:  39203730.08764165\n",
      "El coeficiente de determinacion es:  0.736338062107516\n"
     ]
    }
   ],
   "source": [
    "#Evaluar el modelo con las métricas, r2= cpeficiente de determinacion\n",
    "error= mean_squared_error(y_test,y_obt)\n",
    "print(\"El error es: \",error)\n",
    "\n",
    "r2=r2_score(y_test,y_obt)\n",
    "print(\"El coeficiente de determinacion es: \",r2)\n"
   ]
  },
  {
   "cell_type": "code",
   "execution_count": 37,
   "metadata": {},
   "outputs": [
    {
     "data": {
      "text/html": [
       "<div>\n",
       "<style scoped>\n",
       "    .dataframe tbody tr th:only-of-type {\n",
       "        vertical-align: middle;\n",
       "    }\n",
       "\n",
       "    .dataframe tbody tr th {\n",
       "        vertical-align: top;\n",
       "    }\n",
       "\n",
       "    .dataframe thead th {\n",
       "        text-align: right;\n",
       "    }\n",
       "</style>\n",
       "<table border=\"1\" class=\"dataframe\">\n",
       "  <thead>\n",
       "    <tr style=\"text-align: right;\">\n",
       "      <th></th>\n",
       "      <th>age</th>\n",
       "      <th>sex</th>\n",
       "      <th>bmi</th>\n",
       "      <th>children</th>\n",
       "      <th>smoker</th>\n",
       "      <th>charges</th>\n",
       "    </tr>\n",
       "  </thead>\n",
       "  <tbody>\n",
       "    <tr>\n",
       "      <th>0</th>\n",
       "      <td>19</td>\n",
       "      <td>1</td>\n",
       "      <td>27.900</td>\n",
       "      <td>0</td>\n",
       "      <td>1</td>\n",
       "      <td>16884.92400</td>\n",
       "    </tr>\n",
       "    <tr>\n",
       "      <th>1</th>\n",
       "      <td>18</td>\n",
       "      <td>0</td>\n",
       "      <td>33.770</td>\n",
       "      <td>1</td>\n",
       "      <td>0</td>\n",
       "      <td>1725.55230</td>\n",
       "    </tr>\n",
       "    <tr>\n",
       "      <th>2</th>\n",
       "      <td>28</td>\n",
       "      <td>0</td>\n",
       "      <td>33.000</td>\n",
       "      <td>3</td>\n",
       "      <td>0</td>\n",
       "      <td>4449.46200</td>\n",
       "    </tr>\n",
       "    <tr>\n",
       "      <th>3</th>\n",
       "      <td>33</td>\n",
       "      <td>0</td>\n",
       "      <td>22.705</td>\n",
       "      <td>0</td>\n",
       "      <td>0</td>\n",
       "      <td>21984.47061</td>\n",
       "    </tr>\n",
       "    <tr>\n",
       "      <th>4</th>\n",
       "      <td>32</td>\n",
       "      <td>0</td>\n",
       "      <td>28.880</td>\n",
       "      <td>0</td>\n",
       "      <td>0</td>\n",
       "      <td>3866.85520</td>\n",
       "    </tr>\n",
       "  </tbody>\n",
       "</table>\n",
       "</div>"
      ],
      "text/plain": [
       "   age  sex     bmi  children  smoker      charges\n",
       "0   19    1  27.900         0       1  16884.92400\n",
       "1   18    0  33.770         1       0   1725.55230\n",
       "2   28    0  33.000         3       0   4449.46200\n",
       "3   33    0  22.705         0       0  21984.47061\n",
       "4   32    0  28.880         0       0   3866.85520"
      ]
     },
     "execution_count": 37,
     "metadata": {},
     "output_type": "execute_result"
    }
   ],
   "source": [
    "datoSalud.head()"
   ]
  },
  {
   "cell_type": "code",
   "execution_count": 38,
   "metadata": {},
   "outputs": [
    {
     "name": "stdout",
     "output_type": "stream",
     "text": [
      "El coste del seguro es:  [33443.06674053]\n"
     ]
    },
    {
     "name": "stderr",
     "output_type": "stream",
     "text": [
      "C:\\Users\\Brithany\\AppData\\Local\\Packages\\PythonSoftwareFoundation.Python.3.11_qbz5n2kfra8p0\\LocalCache\\local-packages\\Python311\\site-packages\\sklearn\\base.py:465: UserWarning: X does not have valid feature names, but LinearRegression was fitted with feature names\n",
      "  warnings.warn(\n"
     ]
    }
   ],
   "source": [
    "#Realizar una nueva prediccion\n",
    "costeSeguro=modelo.predict([[33,0,40,0,1]])\n",
    "print('El coste del seguro es: ',costeSeguro)"
   ]
  },
  {
   "cell_type": "code",
   "execution_count": 39,
   "metadata": {},
   "outputs": [
    {
     "name": "stdout",
     "output_type": "stream",
     "text": [
      "El coste del seguro es:  [33078.91588138]\n"
     ]
    },
    {
     "name": "stderr",
     "output_type": "stream",
     "text": [
      "C:\\Users\\Brithany\\AppData\\Local\\Packages\\PythonSoftwareFoundation.Python.3.11_qbz5n2kfra8p0\\LocalCache\\local-packages\\Python311\\site-packages\\sklearn\\base.py:465: UserWarning: X does not have valid feature names, but LinearRegression was fitted with feature names\n",
      "  warnings.warn(\n"
     ]
    }
   ],
   "source": [
    "#Realizar una nueva prediccion\n",
    "costeSeguro=modelo.predict([[45,1,25,2,1]])\n",
    "print('El coste del seguro es: ',costeSeguro)"
   ]
  },
  {
   "cell_type": "code",
   "execution_count": 41,
   "metadata": {},
   "outputs": [
    {
     "name": "stdout",
     "output_type": "stream",
     "text": [
      "El coste del seguro es:  [15436.5194419]\n"
     ]
    },
    {
     "name": "stderr",
     "output_type": "stream",
     "text": [
      "C:\\Users\\Brithany\\AppData\\Local\\Packages\\PythonSoftwareFoundation.Python.3.11_qbz5n2kfra8p0\\LocalCache\\local-packages\\Python311\\site-packages\\sklearn\\base.py:465: UserWarning: X does not have valid feature names, but LinearRegression was fitted with feature names\n",
      "  warnings.warn(\n"
     ]
    }
   ],
   "source": [
    "#Realizar una nueva prediccion\n",
    "costeSeguro=modelo.predict([[60,0,33,3,0]])\n",
    "print('El coste del seguro es: ',costeSeguro)"
   ]
  },
  {
   "cell_type": "code",
   "execution_count": 40,
   "metadata": {},
   "outputs": [
    {
     "data": {
      "image/png": "[encoded data removed]",
      "text/plain": [
       "<Figure size 640x480 with 1 Axes>"
      ]
     },
     "metadata": {},
     "output_type": "display_data"
    }
   ],
   "source": [
    "#Crear una gráfica de dispersion de los datos de entrada\n",
    "plt.scatter(x['age'],y)\n",
    "plt.title(\"Regresion Lineal\")\n",
    "plt.xlabel(\"Edad\")\n",
    "plt.ylabel(\"costo del seguro\")\n",
    "plt.show()"
   ]
  },
  {
   "cell_type": "code",
   "execution_count": 42,
   "metadata": {},
   "outputs": [
    {
     "name": "stdout",
     "output_type": "stream",
     "text": [
      "El coeficiente B1 es:  [  263.21240374   -37.70158672   292.35256747   450.14519738\n",
      " 24417.24981936]\n",
      "La intersección:  -11354.29510084421\n"
     ]
    }
   ],
   "source": [
    "#imprimir los coeficientes de regresión\n",
    "print(\"El coeficiente B1 es: \",modelo.coef_)\n",
    "print(\"La intersección: \", modelo.intercept_)"
   ]
  },
  {
   "cell_type": "code",
   "execution_count": null,
   "metadata": {},
   "outputs": [],
   "source": []
  }
 ],
 "metadata": {
  "kernelspec": {
   "display_name": "Python 3",
   "language": "python",
   "name": "python3"
  },
  "language_info": {
   "codemirror_mode": {
    "name": "ipython",
    "version": 3
   },
   "file_extension": ".py",
   "mimetype": "text/x-python",
   "name": "python",
   "nbconvert_exporter": "python",
   "pygments_lexer": "ipython3",
   "version": "3.11.6"
  }
 },
 "nbformat": 4,
 "nbformat_minor": 2
}
