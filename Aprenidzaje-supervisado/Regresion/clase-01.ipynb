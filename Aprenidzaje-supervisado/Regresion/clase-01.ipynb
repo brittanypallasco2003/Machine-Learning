{
 "cells": [
  {
   "cell_type": "markdown",
   "metadata": {},
   "source": [
    "# Clase 01 -Regresión Lineal\n",
    "## Conceptos importantes\n",
    "### Machine Learning\n",
    "Rama de la IA que desarrolla algoritmos/modelos para que las compus aprendan por medio de datos y realicen tareas que no han sido programadas\n",
    "\n",
    "**Objetivo:** encuentrar patrones con datos de entrada y salida dados modelos de aprendizaje automático"
   ]
  },
  {
   "cell_type": "markdown",
   "metadata": {},
   "source": [
    "### Aprendizaje supervisado:\n",
    "técnica del ML que usa datos etiquetados (datos de entrenamiento) para que el modelo haga predicciones\n",
    "### Elementos\n",
    "**Datos de entrenamiento:** conjunto de ejemplos de entrada con sus correspondientes salidas respecto al conjunto de datos original\n",
    "\n",
    "**Ejemplos de entrada:** son el conjunto de características que describen los as propiedades o atributos de un elemento, con su etiqueta de salida asociada que representa la respuesta deseada o la categoría correspondiente. Osea son las características de los datos de entrenamiento que tienen sus respectivas etiquetas separadas en la variable por lo general 'y' y destinadas para el entrenamiento.\n",
    "\n",
    "**Caract. de entrada:** variables, atributos describen cada ejemplo de entrada y pueden ser númericas (número de habitaciones) o categóricas (género). Simplemente son los datos que *se le da al modelo para que aprenda* y se los da para que el modelo se entrene y para que haga predicciones\n",
    "\n",
    "```\n",
    "las características de entrada pueden ser ejemplos de entrada, pero los ejemplos de entrada no necesariamente son carc de entrada. Al igual que x_train no es igual que características de entrada nuevas dada una nueva predicción\n",
    "```\n",
    "\n",
    "**Etiquetas de salida** son las respuestas asociadas a las categorías a las que pertenecen el conjunto de datos real o también son las respuestas o valores objetivo que intenta predecir el modelo usando algún algoritmo."
   ]
  },
  {
   "cell_type": "markdown",
   "metadata": {},
   "source": [
    "## Regresión\n",
    "predice *valores númericos continuos* mediante la relación entre características de entrada y sus correspondientes etiquetas del conjunto de datos original.\n",
    "Encuentra la relación entre variable independiente y una o más dependientes, como en el plano cartesiano, la y (variable independiente no es la misma jamás, porque sino no sería continua)\n",
    "### Algoritmos para regresión\n",
    "#### Regresión lineal\n",
    "modelo mediante relación entre variable independiente y dependiente\n",
    "\n",
    "|y|x|b|\n",
    "|-|-|-|\n",
    "|var dependiente|var independiente|coef del modelo obtenidos durante el entrenamiento|\n",
    "\n",
    "### Tipos\n",
    "**Lineal simple** una sol var independiente para una var dependiente. Una sola x para y\n",
    "\n",
    "**Lineal múltiple:** varias var independientes para una sola predicción. \n",
    "\n",
    "### Métricas\n",
    "**Error cuadrático medio: (MSE)** menor MSE mejor rendimiento del modelo\n",
    "\n",
    "**Coeficiente de determinación: (R^2)** cercano a 1 indica que el modelo establece una buena relación o es bueno, cercano a 0 indica que no se ajusta bien a los datos o no es un buen modelo.\n",
    "\n",
    "## Biblioteca SciKit-Learn\n",
    "biblioteca de machine learning para el lenguaje Python con herramientas para análisis de datos y modelos predictivos"
   ]
  },
  {
   "cell_type": "markdown",
   "metadata": {},
   "source": [
    "## Pasos para modelo de aprendizaje supervisado\n",
    "**1. Conjunto de datos (importar datos)**"
   ]
  },
  {
   "cell_type": "code",
   "execution_count": 1,
   "metadata": {},
   "outputs": [],
   "source": [
    "#Importar librerias\n",
    "import pandas as pd\n",
    "import matplotlib.pyplot as plt\n",
    "# para usar la función train_test_split que divide los conjunto de datos en tain y test\n",
    "from sklearn.model_selection import train_test_split \n",
    "# para crear el modelo de regresion lineal\n",
    "from sklearn.linear_model import LinearRegression\n",
    "# para utilizar las métricas de evaluación y medir el rendimiento del modelo\n",
    "from sklearn.metrics import mean_squared_error, r2_score"
   ]
  },
  {
   "cell_type": "code",
   "execution_count": 2,
   "metadata": {},
   "outputs": [],
   "source": [
    "#Leer el archivo\n",
    "datos=pd.read_csv('./Salary_Data1.csv')"
   ]
  },
  {
   "cell_type": "code",
   "execution_count": 3,
   "metadata": {},
   "outputs": [
    {
     "data": {
      "text/html": [
       "<div>\n",
       "<style scoped>\n",
       "    .dataframe tbody tr th:only-of-type {\n",
       "        vertical-align: middle;\n",
       "    }\n",
       "\n",
       "    .dataframe tbody tr th {\n",
       "        vertical-align: top;\n",
       "    }\n",
       "\n",
       "    .dataframe thead th {\n",
       "        text-align: right;\n",
       "    }\n",
       "</style>\n",
       "<table border=\"1\" class=\"dataframe\">\n",
       "  <thead>\n",
       "    <tr style=\"text-align: right;\">\n",
       "      <th></th>\n",
       "      <th>YearsExperience</th>\n",
       "      <th>Salary</th>\n",
       "    </tr>\n",
       "  </thead>\n",
       "  <tbody>\n",
       "    <tr>\n",
       "      <th>0</th>\n",
       "      <td>1.1</td>\n",
       "      <td>39343.0</td>\n",
       "    </tr>\n",
       "    <tr>\n",
       "      <th>1</th>\n",
       "      <td>1.3</td>\n",
       "      <td>46205.0</td>\n",
       "    </tr>\n",
       "    <tr>\n",
       "      <th>2</th>\n",
       "      <td>1.5</td>\n",
       "      <td>37731.0</td>\n",
       "    </tr>\n",
       "    <tr>\n",
       "      <th>3</th>\n",
       "      <td>2.0</td>\n",
       "      <td>43525.0</td>\n",
       "    </tr>\n",
       "    <tr>\n",
       "      <th>4</th>\n",
       "      <td>2.2</td>\n",
       "      <td>39891.0</td>\n",
       "    </tr>\n",
       "  </tbody>\n",
       "</table>\n",
       "</div>"
      ],
      "text/plain": [
       "   YearsExperience   Salary\n",
       "0              1.1  39343.0\n",
       "1              1.3  46205.0\n",
       "2              1.5  37731.0\n",
       "3              2.0  43525.0\n",
       "4              2.2  39891.0"
      ]
     },
     "execution_count": 3,
     "metadata": {},
     "output_type": "execute_result"
    }
   ],
   "source": [
    "#Muestra las 5 primeras filas\n",
    "datos.head()"
   ]
  },
  {
   "cell_type": "code",
   "execution_count": 4,
   "metadata": {},
   "outputs": [
    {
     "data": {
      "text/html": [
       "<div>\n",
       "<style scoped>\n",
       "    .dataframe tbody tr th:only-of-type {\n",
       "        vertical-align: middle;\n",
       "    }\n",
       "\n",
       "    .dataframe tbody tr th {\n",
       "        vertical-align: top;\n",
       "    }\n",
       "\n",
       "    .dataframe thead th {\n",
       "        text-align: right;\n",
       "    }\n",
       "</style>\n",
       "<table border=\"1\" class=\"dataframe\">\n",
       "  <thead>\n",
       "    <tr style=\"text-align: right;\">\n",
       "      <th></th>\n",
       "      <th>YearsExperience</th>\n",
       "      <th>Salary</th>\n",
       "    </tr>\n",
       "  </thead>\n",
       "  <tbody>\n",
       "    <tr>\n",
       "      <th>count</th>\n",
       "      <td>30.000000</td>\n",
       "      <td>30.000000</td>\n",
       "    </tr>\n",
       "    <tr>\n",
       "      <th>mean</th>\n",
       "      <td>5.313333</td>\n",
       "      <td>76003.000000</td>\n",
       "    </tr>\n",
       "    <tr>\n",
       "      <th>std</th>\n",
       "      <td>2.837888</td>\n",
       "      <td>27414.429785</td>\n",
       "    </tr>\n",
       "    <tr>\n",
       "      <th>min</th>\n",
       "      <td>1.100000</td>\n",
       "      <td>37731.000000</td>\n",
       "    </tr>\n",
       "    <tr>\n",
       "      <th>25%</th>\n",
       "      <td>3.200000</td>\n",
       "      <td>56720.750000</td>\n",
       "    </tr>\n",
       "    <tr>\n",
       "      <th>50%</th>\n",
       "      <td>4.700000</td>\n",
       "      <td>65237.000000</td>\n",
       "    </tr>\n",
       "    <tr>\n",
       "      <th>75%</th>\n",
       "      <td>7.700000</td>\n",
       "      <td>100544.750000</td>\n",
       "    </tr>\n",
       "    <tr>\n",
       "      <th>max</th>\n",
       "      <td>10.500000</td>\n",
       "      <td>122391.000000</td>\n",
       "    </tr>\n",
       "  </tbody>\n",
       "</table>\n",
       "</div>"
      ],
      "text/plain": [
       "       YearsExperience         Salary\n",
       "count        30.000000      30.000000\n",
       "mean          5.313333   76003.000000\n",
       "std           2.837888   27414.429785\n",
       "min           1.100000   37731.000000\n",
       "25%           3.200000   56720.750000\n",
       "50%           4.700000   65237.000000\n",
       "75%           7.700000  100544.750000\n",
       "max          10.500000  122391.000000"
      ]
     },
     "execution_count": 4,
     "metadata": {},
     "output_type": "execute_result"
    }
   ],
   "source": [
    "#cracteristicas basicas estadísticas\n",
    "datos.describe()"
   ]
  },
  {
   "cell_type": "code",
   "execution_count": 5,
   "metadata": {},
   "outputs": [],
   "source": [
    "#Separar datos de entrada X son caracteristicas y Y son etiquetas\n",
    "x=datos[['YearsExperience']] #con lo que vamos a predecir\n",
    "y=datos[['Salary']] #lo que vamos a predecir"
   ]
  },
  {
   "cell_type": "markdown",
   "metadata": {},
   "source": [
    "**2. Dividir el conjunto de datos en %n prueba y %n entrenamiento**\n",
    "\n",
    "Con la función ‘train_test_split’ se divide el conjunto de datos en conjuntos de entrenamiento y prueba. Sus parámetros son x, y, test_size y random_state.\n",
    "\n",
    "-\tx, y: son los conjuntos de características y variables independientes que estas tratando de predecir o clasificar.\n",
    "-\tTest_size: proporción del conjunto de datos que se debe asignar al conjunto de prueba.\n",
    "-\tRandom_state: se utiliza para inicializar el generador de números aleatorios.\n",
    "\n",
    "El resultado de esta función se guardará en las variables:\n",
    "-\tx_train: conjunto de entrada para entrenamiento\n",
    "-\tx_test: conjunto de entradas para después de entrenarlo, evaluarlo con sus respectivas métricas.\n",
    "-\ty_train: conjunto de etiquetas para entrenamiento.\n",
    "-\ty_test: conjunto de etiquetas para prueba.\n"
   ]
  },
  {
   "cell_type": "code",
   "execution_count": 6,
   "metadata": {},
   "outputs": [],
   "source": [
    "x_train, x_test, y_train, y_test=train_test_split(x,y,test_size=0.2,random_state=25)"
   ]
  },
  {
   "cell_type": "markdown",
   "metadata": {},
   "source": [
    "**3. Construir un modelo**"
   ]
  },
  {
   "cell_type": "code",
   "execution_count": 7,
   "metadata": {},
   "outputs": [],
   "source": [
    "modelo=LinearRegression()"
   ]
  },
  {
   "cell_type": "markdown",
   "metadata": {},
   "source": [
    "**4. entrenar modelo**\n",
    "\n",
    "Al ejecutar la línea anterior, la variable ‘modelo’ se convierte en un objeto que representa al modelo de regresión lineas. Gracias a esto, se pueden utilizar los métodos de este objeto para entrenar al modelo con los datos de entrenamiento."
   ]
  },
  {
   "cell_type": "code",
   "execution_count": 8,
   "metadata": {},
   "outputs": [
    {
     "data": {
      "text/html": [
       "<style>#sk-container-id-1 {color: black;}#sk-container-id-1 pre{padding: 0;}#sk-container-id-1 div.sk-toggleable {background-color: white;}#sk-container-id-1 label.sk-toggleable__label {cursor: pointer;display: block;width: 100%;margin-bottom: 0;padding: 0.3em;box-sizing: border-box;text-align: center;}#sk-container-id-1 label.sk-toggleable__label-arrow:before {content: \"▸\";float: left;margin-right: 0.25em;color: #696969;}#sk-container-id-1 label.sk-toggleable__label-arrow:hover:before {color: black;}#sk-container-id-1 div.sk-estimator:hover label.sk-toggleable__label-arrow:before {color: black;}#sk-container-id-1 div.sk-toggleable__content {max-height: 0;max-width: 0;overflow: hidden;text-align: left;background-color: #f0f8ff;}#sk-container-id-1 div.sk-toggleable__content pre {margin: 0.2em;color: black;border-radius: 0.25em;background-color: #f0f8ff;}#sk-container-id-1 input.sk-toggleable__control:checked~div.sk-toggleable__content {max-height: 200px;max-width: 100%;overflow: auto;}#sk-container-id-1 input.sk-toggleable__control:checked~label.sk-toggleable__label-arrow:before {content: \"▾\";}#sk-container-id-1 div.sk-estimator input.sk-toggleable__control:checked~label.sk-toggleable__label {background-color: #d4ebff;}#sk-container-id-1 div.sk-label input.sk-toggleable__control:checked~label.sk-toggleable__label {background-color: #d4ebff;}#sk-container-id-1 input.sk-hidden--visually {border: 0;clip: rect(1px 1px 1px 1px);clip: rect(1px, 1px, 1px, 1px);height: 1px;margin: -1px;overflow: hidden;padding: 0;position: absolute;width: 1px;}#sk-container-id-1 div.sk-estimator {font-family: monospace;background-color: #f0f8ff;border: 1px dotted black;border-radius: 0.25em;box-sizing: border-box;margin-bottom: 0.5em;}#sk-container-id-1 div.sk-estimator:hover {background-color: #d4ebff;}#sk-container-id-1 div.sk-parallel-item::after {content: \"\";width: 100%;border-bottom: 1px solid gray;flex-grow: 1;}#sk-container-id-1 div.sk-label:hover label.sk-toggleable__label {background-color: #d4ebff;}#sk-container-id-1 div.sk-serial::before {content: \"\";position: absolute;border-left: 1px solid gray;box-sizing: border-box;top: 0;bottom: 0;left: 50%;z-index: 0;}#sk-container-id-1 div.sk-serial {display: flex;flex-direction: column;align-items: center;background-color: white;padding-right: 0.2em;padding-left: 0.2em;position: relative;}#sk-container-id-1 div.sk-item {position: relative;z-index: 1;}#sk-container-id-1 div.sk-parallel {display: flex;align-items: stretch;justify-content: center;background-color: white;position: relative;}#sk-container-id-1 div.sk-item::before, #sk-container-id-1 div.sk-parallel-item::before {content: \"\";position: absolute;border-left: 1px solid gray;box-sizing: border-box;top: 0;bottom: 0;left: 50%;z-index: -1;}#sk-container-id-1 div.sk-parallel-item {display: flex;flex-direction: column;z-index: 1;position: relative;background-color: white;}#sk-container-id-1 div.sk-parallel-item:first-child::after {align-self: flex-end;width: 50%;}#sk-container-id-1 div.sk-parallel-item:last-child::after {align-self: flex-start;width: 50%;}#sk-container-id-1 div.sk-parallel-item:only-child::after {width: 0;}#sk-container-id-1 div.sk-dashed-wrapped {border: 1px dashed gray;margin: 0 0.4em 0.5em 0.4em;box-sizing: border-box;padding-bottom: 0.4em;background-color: white;}#sk-container-id-1 div.sk-label label {font-family: monospace;font-weight: bold;display: inline-block;line-height: 1.2em;}#sk-container-id-1 div.sk-label-container {text-align: center;}#sk-container-id-1 div.sk-container {/* jupyter's `normalize.less` sets `[hidden] { display: none; }` but bootstrap.min.css set `[hidden] { display: none !important; }` so we also need the `!important` here to be able to override the default hidden behavior on the sphinx rendered scikit-learn.org. See: https://github.com/scikit-learn/scikit-learn/issues/21755 */display: inline-block !important;position: relative;}#sk-container-id-1 div.sk-text-repr-fallback {display: none;}</style><div id=\"sk-container-id-1\" class=\"sk-top-container\"><div class=\"sk-text-repr-fallback\"><pre>LinearRegression()</pre><b>In a Jupyter environment, please rerun this cell to show the HTML representation or trust the notebook. <br />On GitHub, the HTML representation is unable to render, please try loading this page with nbviewer.org.</b></div><div class=\"sk-container\" hidden><div class=\"sk-item\"><div class=\"sk-estimator sk-toggleable\"><input class=\"sk-toggleable__control sk-hidden--visually\" id=\"sk-estimator-id-1\" type=\"checkbox\" checked><label for=\"sk-estimator-id-1\" class=\"sk-toggleable__label sk-toggleable__label-arrow\">LinearRegression</label><div class=\"sk-toggleable__content\"><pre>LinearRegression()</pre></div></div></div></div></div>"
      ],
      "text/plain": [
       "LinearRegression()"
      ]
     },
     "execution_count": 8,
     "metadata": {},
     "output_type": "execute_result"
    }
   ],
   "source": [
    "modelo.fit(x_train,y_train)"
   ]
  },
  {
   "cell_type": "markdown",
   "metadata": {},
   "source": [
    "**5. Predicciones con datos de prueba**\n",
    "\n",
    "Para utilizar las métricas de evaluación es necesario probar el modelo con el conjunto de características de entradas destinadas para pruebas. Para ello, se utilizará el método: predict, el cual se utiliza para realizar predicciones con nuevos datos.\n",
    "En la siguiente línea del código, la variable ‘y_obt’ almacenará un conjunto de predicciones o etiquetas que el modelo ha asignado a cada característica de entrada o cada elemento del conjunto ‘x_test’.\n"
   ]
  },
  {
   "cell_type": "code",
   "execution_count": 9,
   "metadata": {},
   "outputs": [],
   "source": [
    "y_obt=modelo.predict(x_test)"
   ]
  },
  {
   "cell_type": "markdown",
   "metadata": {},
   "source": [
    "**6. Métricas de Evaluación:**\n",
    "\n",
    "***MSE:***\n",
    "\n",
    "con la función mean_squared_error y los parámetros ‘y_test’ y ‘y_obt’. Donde ‘y_test’ son las etiquetas reales del conjunto de prueba correspondientes al conjunto real de datos, pero ‘y_obt’ son las valores objetivo resultado de las predicciones realizadas por el modelo con el conjunto de entradas de prueba o sea los *x_train*"
   ]
  },
  {
   "cell_type": "code",
   "execution_count": 10,
   "metadata": {},
   "outputs": [
    {
     "name": "stdout",
     "output_type": "stream",
     "text": [
      "El error es:  38937181.27550301\n"
     ]
    }
   ],
   "source": [
    "error= mean_squared_error(y_test,y_obt)\n",
    "print(\"El error es: \",error)\n"
   ]
  },
  {
   "cell_type": "markdown",
   "metadata": {},
   "source": [
    "***Coefieciente de determinación R^2***\n"
   ]
  },
  {
   "cell_type": "code",
   "execution_count": 12,
   "metadata": {},
   "outputs": [
    {
     "name": "stdout",
     "output_type": "stream",
     "text": [
      "El coeficiente de determinacion es:  0.9531732818427658\n"
     ]
    }
   ],
   "source": [
    "# si es cercano a 1 es buen modelo\n",
    "r2=r2_score(y_test,y_obt)\n",
    "print(\"El coeficiente de determinacion es: \",r2)"
   ]
  },
  {
   "cell_type": "markdown",
   "metadata": {},
   "source": [
    "**7. Predicciones con nuevos datos**\n",
    "\n",
    "con el modelo ya entranado y probado se realizan nuevas predicciones con nuevas carácteristicas de entrada, *ya no correspondientes al conjunto de datos original*"
   ]
  },
  {
   "cell_type": "code",
   "execution_count": 13,
   "metadata": {},
   "outputs": [
    {
     "name": "stdout",
     "output_type": "stream",
     "text": [
      "El salario si se tiene 10 años de experiencia es: [[119960.54073397]]\n"
     ]
    },
    {
     "name": "stderr",
     "output_type": "stream",
     "text": [
      "C:\\Users\\Brithany\\AppData\\Local\\Packages\\PythonSoftwareFoundation.Python.3.11_qbz5n2kfra8p0\\LocalCache\\local-packages\\Python311\\site-packages\\sklearn\\base.py:465: UserWarning: X does not have valid feature names, but LinearRegression was fitted with feature names\n",
      "  warnings.warn(\n"
     ]
    }
   ],
   "source": [
    "#Realizar una nueva prediccion\n",
    "salario= modelo.predict([[10]])\n",
    "print(\"El salario si se tiene 10 años de experiencia es:\",salario)"
   ]
  },
  {
   "cell_type": "code",
   "execution_count": 14,
   "metadata": {},
   "outputs": [
    {
     "name": "stdout",
     "output_type": "stream",
     "text": [
      "El coeficiente B1 es:  [[9339.90339715]]\n",
      "La intercepcion es:  [26561.50676243]\n"
     ]
    }
   ],
   "source": [
    "#Imprimir los coeficientes de regresion\n",
    "print(\"El coeficiente B1 es: \",modelo.coef_)\n",
    "print(\"La intercepcion es: \", modelo.intercept_)"
   ]
  },
  {
   "cell_type": "code",
   "execution_count": 15,
   "metadata": {},
   "outputs": [
    {
     "data": {
      "image/png": "[encoded data removed]",
      "text/plain": [
       "<Figure size 640x480 with 1 Axes>"
      ]
     },
     "metadata": {},
     "output_type": "display_data"
    }
   ],
   "source": [
    "#Crear una gráfica de dispersion de los datos de entrada\n",
    "plt.scatter(x['YearsExperience'],y)\n",
    "plt.title(\"Regresion Lineal\")\n",
    "plt.xlabel(\"Años de experiencia\")\n",
    "plt.ylabel(\"Salario\")\n",
    "plt.show()\n"
   ]
  },
  {
   "cell_type": "code",
   "execution_count": 16,
   "metadata": {},
   "outputs": [
    {
     "data": {
      "image/png": "[encoded data removed]",
      "text/plain": [
       "<Figure size 640x480 with 1 Axes>"
      ]
     },
     "metadata": {},
     "output_type": "display_data"
    }
   ],
   "source": [
    "\n",
    "#Grafica de los valores obtenidos y los valores reales\n",
    "#Crear una lista desde 1 hasta la longitud de ytest para reprensentar el eje x\n",
    "lista=[i for i in range(1, len(y_test)+1,1)]\n",
    "plt.plot(lista,y_test, color='r')\n",
    "plt.plot(lista,y_obt,color='b')\n",
    "plt.show()"
   ]
  }
 ],
 "metadata": {
  "kernelspec": {
   "display_name": "Python 3",
   "language": "python",
   "name": "python3"
  },
  "language_info": {
   "codemirror_mode": {
    "name": "ipython",
    "version": 3
   },
   "file_extension": ".py",
   "mimetype": "text/x-python",
   "name": "python",
   "nbconvert_exporter": "python",
   "pygments_lexer": "ipython3",
   "version": "3.11.6"
  }
 },
 "nbformat": 4,
 "nbformat_minor": 2
}
